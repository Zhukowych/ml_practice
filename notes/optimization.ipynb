{
 "cells": [
  {
   "cell_type": "markdown",
   "metadata": {},
   "source": [
    "## Gradient descent\n",
    "\n",
    "**Lemma 1: Directional derivative formula**\n",
    "\n",
    "If $f:\\mathbb{R^n} \\to \\mathbb{R}$ is differentiable\n",
    "\n",
    "$$\\nabla_v f(\\vec{x_0}) = \\lim_{h\\to 0} \\frac{f(\\vec{x_0} + \\vec{v}h) - f(\\vec{x_0})}{h}$$\n",
    "\n",
    "As function is differentiable by Taylor expansion\n",
    "\n",
    "$$\\lim_{h\\to 0}\\frac{f(\\vec{x_0}) + \\nabla f(\\vec{x_0})\\cdot(\\vec{v}h) + o(vh) - f(\\vec{x_0}) }{h} = \\nabla f(\\vec{x_0})\\cdot \\vec{v}$$ \n",
    "\n",
    "**Lemma 2: Gradient points into direction of the steepest ascent**\n",
    "\n",
    "$$\\nabla_v f(x) = \\nabla f(x)\\cdot \\vec{v} = \\|\\nabla f(x)\\| \\|\\vec{v}\\| cos\\theta$$\n",
    "\n",
    "Then the above expression maximises then $\\theta = 0$ i.e. vector $\\vec{v}$ points into the direction of gradient\n",
    "\n",
    "Also then $\\theta = \\pi$ expression minimizes, so steepest descent points into opposide diretion to gradient\n",
    "\n",
    "**Gradient descent**\n",
    "\n",
    "$$\\theta_{n+1} = \\theta_n - \\alpha \\nabla f(\\theta_{n})$$"
   ]
  }
 ],
 "metadata": {
  "language_info": {
   "name": "python"
  }
 },
 "nbformat": 4,
 "nbformat_minor": 2
}
